{
 "cells": [
  {
   "cell_type": "code",
   "execution_count": 2,
   "metadata": {},
   "outputs": [],
   "source": [
    "import pandas as pd\n",
    "import numpy as np"
   ]
  },
  {
   "cell_type": "markdown",
   "metadata": {},
   "source": [
    "# Merge Data (11_22)"
   ]
  },
  {
   "cell_type": "markdown",
   "metadata": {},
   "source": [
    "##### Merges Voting data from 2012, 2016, & 2020 with Census data for Age, and other demographic files.\n",
    "##### States: AZ, FL, GA, MI, NC, OH, PA. WI"
   ]
  },
  {
   "cell_type": "markdown",
   "metadata": {},
   "source": [
    "### File Paths"
   ]
  },
  {
   "cell_type": "markdown",
   "metadata": {},
   "source": [
    "Only need to change files paths if there are new files"
   ]
  },
  {
   "cell_type": "code",
   "execution_count": 3,
   "metadata": {},
   "outputs": [],
   "source": [
    "#Output Path\n",
    "output_file_path = '../Data/Merged_Dataset.csv'\n",
    "\n",
    "#Voting Data\n",
    "#Contains 2012, 2016, & 2020 data\n",
    "voting_data_path = '../Data/Raw Data Files/vote_data_2012-2020.csv'\n",
    "\n",
    "#Age Data\n",
    "age_data_path = '../Data/Raw Data Files/US_Census_Pop_Data.csv'\n",
    "\n",
    "#Demographic data\n",
    "demo_2012_path = '../Data/census_data/2012_demographic.csv'\n",
    "demo_2016_path = '../Data/census_data/2016_demographic.csv'\n",
    "demo_2020_path = '../Data/census_data/2018_demographic.csv'\n",
    "\n",
    "#State Code Mapping File\n",
    "state_abbrev_path = '../Data/census_data/state_abbrev.csv'\n",
    "\n",
    "#FIPS Geo_ID Mapping File\n",
    "fips_path = '../Data/census_data/geo_ids.csv'"
   ]
  },
  {
   "cell_type": "markdown",
   "metadata": {},
   "source": [
    "Run Rest of cells to get final csv"
   ]
  },
  {
   "cell_type": "markdown",
   "metadata": {},
   "source": [
    "#### Voting Data"
   ]
  },
  {
   "cell_type": "code",
   "execution_count": 4,
   "metadata": {},
   "outputs": [
    {
     "data": {
      "text/plain": [
       "(1953, 8)"
      ]
     },
     "execution_count": 4,
     "metadata": {},
     "output_type": "execute_result"
    }
   ],
   "source": [
    "#Read in Voting Data\n",
    "voting_data = pd.read_csv(voting_data_path)\n",
    "\n",
    "#Manully map two counties (There is a mismatch in spelling)\n",
    "voting_data['county'] = voting_data['county'].replace('GD. TRAVERSE COUNTY',\n",
    "                                                      'Grand Traverse County')\n",
    "voting_data['county'] = voting_data['county'].replace('ST.CROIX COUNTY',\n",
    "                                                      'ST. CROIX COUNTY')\n",
    "#Ensure all counties are upper case \n",
    "voting_data['county'] = voting_data['county'].str.upper()\n",
    "\n",
    "#Remove commas from voting data\n",
    "voting_data[['total','dem','gop']] = voting_data[['total',\n",
    "                                                  'dem',\n",
    "                                                  'gop']].replace(',','', regex=True)\n",
    "#Convert Votes Data Type\n",
    "voting_data[['total','dem','gop']] = voting_data[['total',\n",
    "                                                  'dem',\n",
    "                                                  'gop']].astype(int)\n",
    "\n",
    "#Convert Year to String\n",
    "voting_data['year'] = voting_data['year'].astype(str)\n",
    "\n",
    "#Remove Duplicates (Sanity Check)\n",
    "voting_data.drop_duplicates(inplace = True)\n",
    "\n",
    "#Print Shape\n",
    "voting_data.shape"
   ]
  },
  {
   "cell_type": "code",
   "execution_count": 5,
   "metadata": {},
   "outputs": [],
   "source": [
    "#Read in State mapping file\n",
    "state_abbrv = pd.read_csv(state_abbrev_path)\n",
    "#Clean data\n",
    "state_abbrv['Code'] = state_abbrv['Code'].str.upper()\n",
    "state_abbrv['Code'] = state_abbrv['Code'].str.strip()"
   ]
  },
  {
   "cell_type": "markdown",
   "metadata": {},
   "source": [
    "#### Age Data"
   ]
  },
  {
   "cell_type": "code",
   "execution_count": 6,
   "metadata": {},
   "outputs": [
    {
     "name": "stdout",
     "output_type": "stream",
     "text": [
      "(0, 93)\n",
      "(1953, 93)\n"
     ]
    }
   ],
   "source": [
    "#Read in Age Dataset\n",
    "age_combined_csv = pd.read_csv(age_data_path)\n",
    "# Merge Age with state abbrev\n",
    "age_state_abbrv = age_combined_csv.merge(state_abbrv[['State','Code']],\n",
    "                                         left_on = 'STNAME',\n",
    "                                         right_on = 'State')\n",
    "#Set 2019 data as 2020\n",
    "age_state_abbrv['YEAR'] = age_state_abbrv['YEAR'].replace('2019','2020')\n",
    "#Only 2012,2016,2020 data\n",
    "age_state_abbrv = age_state_abbrv[age_state_abbrv['YEAR'].isin(['2012','2016','2020'])]\n",
    "\n",
    "#Map Two Counties Correctly: Grand Traverse County\n",
    "age_state_abbrv['CTYNAME'] = age_state_abbrv['CTYNAME'].replace('GD. TRAVERSE COUNTY',\n",
    "                                                                'GRAND TRAVERSE COUNTY')\n",
    "age_state_abbrv['CTYNAME'] = age_state_abbrv['CTYNAME'].replace('ST.CROIX COUNTY',\n",
    "                                                                'ST. CROIX COUNTY')\n",
    "#Set Counties to uppercase\n",
    "age_state_abbrv['CTYNAME'] = age_state_abbrv['CTYNAME'].str.upper()\n",
    "\n",
    "#Drop extra columns\n",
    "age_state_abbrv.drop(['SUMLEV',\n",
    "                      'STATE',\n",
    "                      'COUNTY',\n",
    "                      'STNAME',\n",
    "                      'State'],\n",
    "                     axis = 1,\n",
    "                     inplace = True) \n",
    "#Drop Any Duplicates\n",
    "age_state_abbrv.drop_duplicates(inplace = True)\n",
    "#Sanity Check that all the years are correct\n",
    "print(age_state_abbrv[~age_state_abbrv['YEAR'].isin(['2012','2016','2020'])].shape)\n",
    "print(age_state_abbrv.shape)"
   ]
  },
  {
   "cell_type": "markdown",
   "metadata": {},
   "source": [
    "#### Ssanity Check"
   ]
  },
  {
   "cell_type": "code",
   "execution_count": 7,
   "metadata": {},
   "outputs": [
    {
     "name": "stdout",
     "output_type": "stream",
     "text": [
      "Number of voting data counties: 1953\n",
      "Number of counties in age data: 1953\n"
     ]
    }
   ],
   "source": [
    "# Confirm Age and Voting have the same number of counties\n",
    "print(\"Number of voting data counties: {}\".format(voting_data.shape[0]))\n",
    "print(\"Number of counties in age data: {}\".format(age_state_abbrv.shape[0]))"
   ]
  },
  {
   "cell_type": "code",
   "execution_count": 8,
   "metadata": {},
   "outputs": [],
   "source": [
    "#Merge age and voting data\n",
    "df_harvard = pd.merge(voting_data,\n",
    "                      age_state_abbrv,\n",
    "                      how = 'inner',\n",
    "                      left_on = ['year','state_po','county'],\n",
    "                      right_on = ['YEAR','Code','CTYNAME'])"
   ]
  },
  {
   "cell_type": "code",
   "execution_count": 9,
   "metadata": {},
   "outputs": [
    {
     "data": {
      "text/plain": [
       "(1953, 101)"
      ]
     },
     "execution_count": 9,
     "metadata": {},
     "output_type": "execute_result"
    }
   ],
   "source": [
    "#All Counties Merged\n",
    "df_harvard.shape"
   ]
  },
  {
   "cell_type": "markdown",
   "metadata": {},
   "source": [
    "#### Santiy Check "
   ]
  },
  {
   "cell_type": "code",
   "execution_count": 10,
   "metadata": {},
   "outputs": [
    {
     "data": {
      "text/plain": [
       "0"
      ]
     },
     "execution_count": 10,
     "metadata": {},
     "output_type": "execute_result"
    }
   ],
   "source": [
    "# Number of Null Values\n",
    "df_harvard.isnull().sum().sum()"
   ]
  },
  {
   "cell_type": "markdown",
   "metadata": {},
   "source": [
    "#### Demographic Data"
   ]
  },
  {
   "cell_type": "code",
   "execution_count": 11,
   "metadata": {},
   "outputs": [],
   "source": [
    "#Read in census datea\n",
    "census_2012 = pd.read_csv(demo_2012_path)\n",
    "census_2016 = pd.read_csv(demo_2016_path)\n",
    "census_2018 = pd.read_csv(demo_2020_path)\n",
    "#Load Mapping File\n",
    "FIPS_map = pd.read_csv(fips_path)\n",
    "\n",
    "#label year\n",
    "census_2012['year'] = '2012'\n",
    "census_2016['year'] = '2016'\n",
    "census_2018['year'] = '2020'\n",
    "\n",
    "#Join together\n",
    "census_total = pd.concat([census_2012, census_2016, census_2018])\n",
    "\n",
    "#Join Mapping file and Census data on geo_id\n",
    "census_final = pd.merge(census_total, FIPS_map[['geo_id','county_name']],\n",
    "                        left_on = 'geo_id',\n",
    "                        right_on = 'geo_id',\n",
    "                        how = 'inner')\n",
    "\n",
    "#Extra cleaning\n",
    "census_final[['County_Name_Only',\n",
    "              'State_Code']] = census_final.county_name.str.split(\",\", \n",
    "                                                                  expand=True)\n",
    "census_final['County_Name_Only'] = census_final['County_Name_Only'].str.upper()\n",
    "census_final['State_Code'] = census_final['State_Code'].str.strip()\n",
    "\n",
    "#Add prefix of bq to all columns \n",
    "census_final.columns = [\"bq_\" + str(col) for col in census_final.columns]\n",
    "\n",
    "#Merge voting & age data with census data\n",
    "df_harvard_bq = pd.merge(df_harvard, census_final, \n",
    "                         left_on = ['year','state_po','county'],\n",
    "                         right_on = ['bq_year','bq_State_Code','bq_County_Name_Only'],\n",
    "                         how = 'left')\n",
    "#Clean up columns\n",
    "df_harvard_bq.drop(['bq_county_name',\n",
    "                    'bq_County_Name_Only',\n",
    "                    'bq_State_Code',\n",
    "                    'YEAR',\n",
    "                    'CTYNAME',\n",
    "                    'bq_do_date',\n",
    "                    'bq_year'],\n",
    "                     axis = 1,\n",
    "                     inplace = True) \n",
    "\n",
    "df_harvard_bq.drop_duplicates(inplace = True)"
   ]
  },
  {
   "cell_type": "markdown",
   "metadata": {},
   "source": [
    "### Sanity Check"
   ]
  },
  {
   "cell_type": "code",
   "execution_count": 12,
   "metadata": {},
   "outputs": [
    {
     "name": "stdout",
     "output_type": "stream",
     "text": [
      "Are any files dropped. Do counties = 1953?\n"
     ]
    },
    {
     "data": {
      "text/html": [
       "<div>\n",
       "<style scoped>\n",
       "    .dataframe tbody tr th:only-of-type {\n",
       "        vertical-align: middle;\n",
       "    }\n",
       "\n",
       "    .dataframe tbody tr th {\n",
       "        vertical-align: top;\n",
       "    }\n",
       "\n",
       "    .dataframe thead th {\n",
       "        text-align: right;\n",
       "    }\n",
       "</style>\n",
       "<table border=\"1\" class=\"dataframe\">\n",
       "  <thead>\n",
       "    <tr style=\"text-align: right;\">\n",
       "      <th></th>\n",
       "      <th>year</th>\n",
       "      <th>state</th>\n",
       "      <th>state_po</th>\n",
       "      <th>county</th>\n",
       "      <th>dem</th>\n",
       "      <th>gop</th>\n",
       "      <th>other</th>\n",
       "      <th>total</th>\n",
       "      <th>POPESTIMATE</th>\n",
       "      <th>POPEST_MALE</th>\n",
       "      <th>...</th>\n",
       "      <th>bq_speak_spanish_at_home</th>\n",
       "      <th>bq_speak_spanish_at_home_low_english</th>\n",
       "      <th>bq_pop_15_and_over</th>\n",
       "      <th>bq_pop_never_married</th>\n",
       "      <th>bq_pop_now_married</th>\n",
       "      <th>bq_pop_separated</th>\n",
       "      <th>bq_pop_widowed</th>\n",
       "      <th>bq_pop_divorced</th>\n",
       "      <th>bq_male_60_to_61</th>\n",
       "      <th>bq_male_62_to_64</th>\n",
       "    </tr>\n",
       "  </thead>\n",
       "  <tbody>\n",
       "  </tbody>\n",
       "</table>\n",
       "<p>0 rows × 352 columns</p>\n",
       "</div>"
      ],
      "text/plain": [
       "Empty DataFrame\n",
       "Columns: [year, state, state_po, county, dem, gop, other, total, POPESTIMATE, POPEST_MALE, POPEST_FEM, UNDER5_TOT, UNDER5_MALE, UNDER5_FEM, AGE513_TOT, AGE513_MALE, AGE513_FEM, AGE1417_TOT, AGE1417_MALE, AGE1417_FEM, AGE1824_TOT, AGE1824_MALE, AGE1824_FEM, AGE16PLUS_TOT, AGE16PLUS_MALE, AGE16PLUS_FEM, AGE18PLUS_TOT, AGE18PLUS_MALE, AGE18PLUS_FEM, AGE1544_TOT, AGE1544_MALE, AGE1544_FEM, AGE2544_TOT, AGE2544_MALE, AGE2544_FEM, AGE4564_TOT, AGE4564_MALE, AGE4564_FEM, AGE65PLUS_TOT, AGE65PLUS_MALE, AGE65PLUS_FEM, AGE04_TOT, AGE04_MALE, AGE04_FEM, AGE59_TOT, AGE59_MALE, AGE59_FEM, AGE1014_TOT, AGE1014_MALE, AGE1014_FEM, AGE1519_TOT, AGE1519_MALE, AGE1519_FEM, AGE2024_TOT, AGE2024_MALE, AGE2024_FEM, AGE2529_TOT, AGE2529_MALE, AGE2529_FEM, AGE3034_TOT, AGE3034_MALE, AGE3034_FEM, AGE3539_TOT, AGE3539_MALE, AGE3539_FEM, AGE4044_TOT, AGE4044_MALE, AGE4044_FEM, AGE4549_TOT, AGE4549_MALE, AGE4549_FEM, AGE5054_TOT, AGE5054_MALE, AGE5054_FEM, AGE5559_TOT, AGE5559_MALE, AGE5559_FEM, AGE6064_TOT, AGE6064_MALE, AGE6064_FEM, AGE6569_TOT, AGE6569_MALE, AGE6569_FEM, AGE7074_TOT, AGE7074_MALE, AGE7074_FEM, AGE7579_TOT, AGE7579_MALE, AGE7579_FEM, AGE8084_TOT, AGE8084_MALE, AGE8084_FEM, AGE85PLUS_TOT, AGE85PLUS_MALE, AGE85PLUS_FEM, MEDIAN_AGE_TOT, MEDIAN_AGE_MALE, MEDIAN_AGE_FEM, Code, bq_geo_id, ...]\n",
       "Index: []\n",
       "\n",
       "[0 rows x 352 columns]"
      ]
     },
     "execution_count": 12,
     "metadata": {},
     "output_type": "execute_result"
    }
   ],
   "source": [
    "print(\"Are any files dropped. Do counties = 1953?\")\n",
    "df_harvard_bq.shape\n",
    "\n",
    "df_harvard_bq[df_harvard_bq['bq_total_pop'] < df_harvard_bq['total']]"
   ]
  },
  {
   "cell_type": "markdown",
   "metadata": {},
   "source": [
    "#### Output File "
   ]
  },
  {
   "cell_type": "code",
   "execution_count": 13,
   "metadata": {},
   "outputs": [],
   "source": [
    "df_harvard_bq.to_csv(output_file_path, index = False)"
   ]
  }
 ],
 "metadata": {
  "kernelspec": {
   "display_name": "Python 3",
   "language": "python",
   "name": "python3"
  },
  "language_info": {
   "codemirror_mode": {
    "name": "ipython",
    "version": 3
   },
   "file_extension": ".py",
   "mimetype": "text/x-python",
   "name": "python",
   "nbconvert_exporter": "python",
   "pygments_lexer": "ipython3",
   "version": "3.8.6"
  }
 },
 "nbformat": 4,
 "nbformat_minor": 4
}
